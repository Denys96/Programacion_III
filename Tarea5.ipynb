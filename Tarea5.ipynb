{
  "nbformat": 4,
  "nbformat_minor": 0,
  "metadata": {
    "colab": {
      "name": "Tarea5.ipynb",
      "provenance": [],
      "collapsed_sections": [],
      "include_colab_link": true
    },
    "kernelspec": {
      "name": "python3",
      "display_name": "Python 3"
    },
    "language_info": {
      "name": "python"
    }
  },
  "cells": [
    {
      "cell_type": "markdown",
      "metadata": {
        "id": "view-in-github",
        "colab_type": "text"
      },
      "source": [
        "<a href=\"https://colab.research.google.com/github/Denys96/Programacion_III/blob/main/Tarea5.ipynb\" target=\"_parent\"><img src=\"https://colab.research.google.com/assets/colab-badge.svg\" alt=\"Open In Colab\"/></a>"
      ]
    },
    {
      "cell_type": "markdown",
      "metadata": {
        "id": "CTOGZZyncx67"
      },
      "source": [
        "Integrantes:\n",
        "\n",
        "1.   Denys Alexander Hernandez Maravilla.\n",
        "2.   Brandyn Eraldo Gomez Gonzalez.\n",
        "3.   Carlos José Díaz Martínez.\n",
        "4.   Kevin Anival Campos Juarado.\n",
        "\n",
        "\n",
        "\n"
      ]
    },
    {
      "cell_type": "markdown",
      "metadata": {
        "id": "-XtedpVfWD_u"
      },
      "source": [
        "Convertir de Celsius de Fahrenheit usando lambda."
      ]
    },
    {
      "cell_type": "code",
      "metadata": {
        "id": "mN0M3WSkWCLC"
      },
      "source": [
        "conversion = lambda c:(c*9/5)+32\n",
        "c = float(input(\"Celsuis: \"))\n",
        "print(\"Grados C: \", c, \" a F: \", conversion(c))"
      ],
      "execution_count": null,
      "outputs": []
    },
    {
      "cell_type": "markdown",
      "metadata": {
        "id": "yjpqudhgWMGI"
      },
      "source": [
        "Calcular la edad de una persona usando lambda."
      ]
    },
    {
      "cell_type": "code",
      "metadata": {
        "id": "mEcZNY4qWMad"
      },
      "source": [
        "nombre= str(input(\"escribe tu nombre: \"))\n",
        "nace= int(input(\"escribe tu año de nacimiento: \"))\n",
        "actual = int(input(\"escribe el año actual: \"))\n",
        "edad = lambda actual,nace :actual - nace\n",
        "\n",
        "diez = edad(actual,nace) >= 1 and edad(actual,nace) < 20\n",
        "veinte = edad(actual,nace) >= 20 and edad(actual,nace) < 30\n",
        "treita = edad(actual,nace) >= 30 and edad(actual,nace) < 40\n",
        "cuarenta = edad(actual,nace) >= 40 and edad(actual,nace) < 50\n",
        "cincuenta = edad(actual,nace) >= 50 and edad(actual,nace) < 60\n",
        "terceraedad = edad(actual,nace) >= 60 and edad(actual,nace) < 125\n",
        "\n",
        "\n",
        "if diez or veinte or treita or cuarenta or cincuenta or terceraedad :\n",
        "  \n",
        "    if diez:\n",
        "        print(nombre)\n",
        "        print(f\"Tu edad es de :{edad(actual,nace)}, y esta dentro de los 1 a 19 años\")\n",
        "    elif veinte:\n",
        "        print(nombre)\n",
        "        print(f\"Tu edad es de :{edad(actual,nace)}, y esta dentro de los 20 a 29 años\")\n",
        "    elif treita:\n",
        "        print(nombre)\n",
        "        print(f\"Tu edad es de :{edad(actual,nace)}, y esta dentro de los 30 a 39 años\")\n",
        "    elif cuarenta:\n",
        "        print(nombre)\n",
        "        print(f\"Tu edad es de :{edad(actual,nace)}, y esta dentro de los 40 a 49 años\")\n",
        "    elif cincuenta:\n",
        "        print(nombre)\n",
        "        print(f\"Tu edad es de :{edad(actual,nace)}, y esta dentro de los 50 a 59 años\")\n",
        "    elif terceraedad:\n",
        "        print(nombre)\n",
        "        print(f\"Tu edad es de :{edad(actual,nace)}, y esta dentro de la tercera edad años\")\n",
        "\n",
        "else:\n",
        "    print(\"No esta dentro de las edades\")"
      ],
      "execution_count": null,
      "outputs": []
    },
    {
      "cell_type": "markdown",
      "metadata": {
        "id": "k5dA3IMQWmM2"
      },
      "source": [
        "Obtener la nota final de ciclo usando lambda y build-in(map, filter, reduce)."
      ]
    },
    {
      "cell_type": "code",
      "metadata": {
        "id": "V5h-JPiWWrJO"
      },
      "source": [
        "print(\"Notas del computo 1:\")\n",
        "nota1c1 = float(input(\"Ingrese la nota del laboratorio 1: \"))\n",
        "nota2c1 = float(input(\"Ingrese la nota del laboratorio 2: \"))\n",
        "parc1 = float(input(\"Ingrese la nota del parcial: \"))\n",
        "\n",
        "resultadoc1 = lambda nota1c1,nota2c1,parc1: (nota1c1 + nota2c1)*0.30 + parc1*0.40\n",
        "\n",
        "\n",
        "if resultadoc1(nota1c1,nota2c1,parc1) >= 6.5:\n",
        "   print(f\"Su nota es de: {resultadoc1(nota1c1,nota2c1,parc1)} APROBADO\")\n",
        "else:\n",
        "    print(f\"Su nota es de: {resultadoc1(nota1c1,nota2c1,parc1)} REPROBADO\")\n",
        "\n",
        "print(\"\")\n",
        "\n",
        "print(\"Notas computo 2:\")\n",
        "nota1c2 = float(input(\"Ingrese la nota del laboratorio 1: \"))\n",
        "nota2c2 = float(input(\"Ingrese la nota del laboratorio 2: \"))\n",
        "parc2 = float(input(\"Ingrese la nota del parcial: \"))\n",
        "\n",
        "resultadoc2 = lambda nota1c2,nota2c2,parc2: (nota1c2 + nota2c2)*0.30 + parc2*0.40\n",
        "\n",
        "\n",
        "if resultadoc2(nota1c2,nota2c2,parc2) >= 6.5:\n",
        "   print(f\"Su nota es de: {resultadoc2(nota1c2,nota2c2,parc2)} APROBADO\")\n",
        "else:\n",
        "    print(f\"Su nota es de: {resultadoc2(nota1c2,nota2c2,parc2)} REPROBADO\")\n",
        "\n",
        "print(\"\")\n",
        "\n",
        "print(\"Notas computo 3:\")\n",
        "nota1c3 = float(input(\"Ingrese la nota del laboratorio 1: \"))\n",
        "nota2c3 = float(input(\"Ingrese la nota del laboratorio 2: \"))\n",
        "parc3 = float(input(\"Ingrese la nota del parcial: \"))\n",
        "\n",
        "resultadoc3 = lambda nota1c3,nota2c3,parc3: (nota1c3 + nota2c3)*0.30 + parc3*0.40\n",
        "\n",
        "if resultadoc3(nota1c3,nota2c3,parc3) >= 6.5:\n",
        "   print(f\"Su nota es de: {resultadoc3(nota1c3,nota2c3,parc3)} APROBADO\")\n",
        "else:\n",
        "    print(f\"Su nota es de: {resultadoc3(nota1c3,nota2c3,parc3)} REPROBADO\")\n",
        "\n",
        "print(\"\")\n",
        "\n",
        "fin = float(resultadoc1(nota1c1,nota2c1,parc1) + resultadoc2(nota1c2,nota2c2,parc2) + resultadoc3(nota1c3,nota2c3,parc3)) / 3\n",
        "final = fin >= 6.5\n",
        "if final:\n",
        "   print(f\"Su nota final es:{fin}\", \"FELICIDADES APROBO EL CICLO\")\n",
        "else:\n",
        "     print(f\"Su nota final es:{fin}\", \"LO SIENTO REPROBO EL CICLO\")"
      ],
      "execution_count": null,
      "outputs": []
    },
    {
      "cell_type": "markdown",
      "metadata": {
        "id": "r5EbYQflXRTA"
      },
      "source": [
        "Calcular sobre el sueldo las deducciones por ley ISSS (3%), AFP(6.25%), ISR(Según tabla) e imprima el total deducciones y sueldo neto. (20%)"
      ]
    },
    {
      "cell_type": "code",
      "metadata": {
        "id": "rMfHG5PTXSXZ",
        "colab": {
          "base_uri": "https://localhost:8080/"
        },
        "outputId": "e1bb668b-268f-4e9b-d540-db3e8c55a764"
      },
      "source": [
        "sueldo=  float(input(\"Ingrese su sueldo: \"))\n",
        "iss=0.03*sueldo\n",
        "afp=0.0625*sueldo\n",
        "sueldoneto= sueldo-(iss+afp)\n",
        "\n",
        "if 0.01 <= sueldoneto <= 472.00:\n",
        "   deduccion = iss+afp\n",
        "   print(f\"Su pago es de: {sueldoneto}\")\n",
        "   print(f\"Sus deduciones son de: {deduccion}\")\n",
        "   print(\"Sin retencion de ISR\")\n",
        "\n",
        "elif 472.01 <= sueldoneto <= 895.24:\n",
        "   renta=0.1\n",
        "   rent = (sueldoneto-472.01)*renta + 17.67\n",
        "   deduccion2 = iss+afp+rent\n",
        "   respuesta2= sueldo-deduccion2\n",
        "   \n",
        "   print(f\"Su pago es de: {respuesta2}\")\n",
        "   print(f\"Sus deduciones son de: {deduccion2}\")\n",
        "   print(f\"Su ISR es de: {rent}\")\n",
        "\n",
        "elif 895.25 <= sueldoneto <= 2038.10:\n",
        "   renta2=0.20\n",
        "   rent = (sueldoneto-895.25)*renta2 + 60.00\n",
        "   deduccion2 = iss+afp+rent\n",
        "   respuesta2= sueldo-deduccion2\n",
        "   \n",
        "   print(f\"Su pago es de: {respuesta2}\")\n",
        "   print(f\"Sus deduciones son de: {deduccion2}\")\n",
        "   print(f\"Su ISR es de: {rent}\")\n",
        "\n",
        "elif 2038.11 <= sueldoneto:\n",
        "   renta3=0.3\n",
        "   rent = (sueldoneto-2038.11)*renta3 + 288.57\n",
        "   deduccion2 = iss+afp+rent\n",
        "   respuesta2= sueldo-deduccion2\n",
        "   \n",
        "   print(f\"Su pago es de: {respuesta2}\")\n",
        "   print(f\"Sus deduciones son de: {deduccion2}\")\n",
        "   print(f\"Su ISR es de: {rent}\")\n",
        "else:\n",
        "  print(\"Ingrese un sueldo valido\")"
      ],
      "execution_count": null,
      "outputs": [
        {
          "output_type": "stream",
          "text": [
            "Ingrese su sueldo: 800\n",
            "Su pago es de: 682.931\n",
            "Sus deduciones son de: 117.069\n",
            "Su ISR es de: 43.069\n"
          ],
          "name": "stdout"
        }
      ]
    },
    {
      "cell_type": "code",
      "metadata": {
        "id": "SUuZ0hYhgDKX"
      },
      "source": [
        "sueldo = float(input(\"Sueldo: \"))\n",
        "isss = sueldo*0.03\n",
        "afp = sueldo*0.0625\n",
        "sueldoNeto = sueldo-(isss+afp)\n",
        "impSr = 0\n",
        "\n",
        "tablaIsr = [\n",
        "            [0.01,472,0,0],\n",
        "            [472.01,895.24,0.1,17.67],\n",
        "            [895.25, 2038.10, 0.2, 60],\n",
        "            [2038.11,99999,0.30,288.57]\n",
        "]\n",
        "for isr in tablaIsr:\n",
        "  if sueldoNeto>isr[0] and sueldoNeto<=isr[1]:\n",
        "    impSr=(sueldoNeto-isr[0])*isr[2] + isr[3]\n",
        "print(\"Total deducciones\", (isss+afp+impSr), \"Sueldo Neto: \", sueldoNeto-impSr)"
      ],
      "execution_count": null,
      "outputs": []
    },
    {
      "cell_type": "markdown",
      "metadata": {
        "id": "uweLAS7Dtl7A"
      },
      "source": [
        "Calcular el valor a pagar según el número de metros consumidos de agua potable (Ver tabla en la siguiente diapositiva). (20%)"
      ]
    },
    {
      "cell_type": "code",
      "metadata": {
        "colab": {
          "base_uri": "https://localhost:8080/"
        },
        "id": "yMzMbpPntqcA",
        "outputId": "16933e17-ecb4-471a-b969-dcdcc9f2ef7b"
      },
      "source": [
        "metros = float(input(\"Ingrese los metros consumidos de agua: \"))\n",
        "cuota = 6\n",
        "mt = (28-18)*0.45\n",
        "if 1 <= metros <= 18:\n",
        "   print(f\"Su cuota es de: ${cuota} de sus metros consumidos\")\n",
        "\n",
        "elif 19 <= metros <= 28:\n",
        "   resp = (metros-18)*0.45+cuota\n",
        "   print(f\"Su cuota es de: ${resp} de sus metros consumidos\")\n",
        "elif 29 <= metros:\n",
        "   resp = ((metros-28)*0.65+cuota)+ mt\n",
        "   print(f\"Su cuota es de: ${resp} de sus metros consumidos\")\n",
        "else:\n",
        "  print(\"Ingrese un metodo valido\")"
      ],
      "execution_count": null,
      "outputs": [
        {
          "output_type": "stream",
          "text": [
            "Ingrese los metros consumidos de agua: 5\n",
            "Su cuota es de: $6 de sus metros consumidos\n"
          ],
          "name": "stdout"
        }
      ]
    },
    {
      "cell_type": "markdown",
      "metadata": {
        "id": "9xsY-PWd3MO_"
      },
      "source": [
        "Desarrolle la tabla de meses acumulados a n meses. Si puede encontrar la formula matemática para evitar ciclos. (10%)"
      ]
    },
    {
      "cell_type": "code",
      "metadata": {
        "colab": {
          "base_uri": "https://localhost:8080/"
        },
        "id": "f2bUj0vf3no4",
        "outputId": "38de632d-095c-422f-ac29-a1daee047a93"
      },
      "source": [
        "mes= int(input(\"Ingrese el mes acumulado: \"))\n",
        "meses= [0,1,2,3,4,5,6,7,8,9]\n",
        "\n",
        "if 1<= mes < 2 :\n",
        "  respuesta = meses[1]+0\n",
        "  print(f\"Los meses acumulados son: {mes}\") \n",
        "elif 2 <= mes < 3:\n",
        "  respuesta = meses[2] + 1\n",
        "  print(f\"Los meses acumulados son: {respuesta}\")\n",
        "elif 3 <= mes <4 :\n",
        "  respuesta = meses[3] + 3\n",
        "  print(f\"Los meses acumulados son: {respuesta}\")\n",
        "elif 4 <= mes < 5:\n",
        "  respuesta = meses[4] + 6\n",
        "  print(f\"Los meses acumulados son: {respuesta}\")\n",
        "elif 5 <= mes <6 :\n",
        "  respuesta = meses[5] + 10\n",
        "  print(f\"Los meses acumulados son: {respuesta}\")\n",
        "elif 6 <= mes < 7:\n",
        "  respuesta = meses[6] + 15\n",
        "  print(f\"Los meses acumulados son: {respuesta}\")\n",
        "elif 7 <= mes <8 :\n",
        "  respuesta = meses[7] + 21\n",
        "  print(f\"Los meses acumulados son: {respuesta}\")\n",
        "elif 8 <= mes < 9:\n",
        "  respuesta = meses[8] + 28\n",
        "  print(f\"Los meses acumulados son: {respuesta}\")\n",
        "elif 9 <= mes < 10 :\n",
        "  respuesta = meses[9] + 36\n",
        "  print(f\"Los meses acumulados son: {respuesta}\")\n",
        "else:\n",
        "  print(\"ingrese un mes valido del 1 al 9\")"
      ],
      "execution_count": null,
      "outputs": [
        {
          "output_type": "stream",
          "text": [
            "Ingrese el mes acumulado: 10\n",
            "ingrese un mes valido del 1 al 9\n"
          ],
          "name": "stdout"
        }
      ]
    },
    {
      "cell_type": "markdown",
      "metadata": {
        "id": "g_tIl2smgmru"
      },
      "source": [
        "Conversores: (40%) (10 ítems como mínimo por cada uno)\n",
        "Monedas (Resuelto en clases)\n",
        "Longitud\n",
        "\n",
        "Masa\n",
        "Almacenamiento\n",
        "Tiempo \n",
        "Volumen\n",
        "Área\n",
        "Manzanas \n",
        "Tareas\n",
        "\n",
        "\n"
      ]
    },
    {
      "cell_type": "code",
      "metadata": {
        "colab": {
          "base_uri": "https://localhost:8080/"
        },
        "id": "dPzvZ2pxgNfz",
        "outputId": "59a60735-7f24-4777-9cc0-868d132e7ce0"
      },
      "source": [
        "\n",
        "valores = [\n",
        "           [],\n",
        "           [0, 1, 0.85, 23.8, 35.11, 7.74, 8.75, 621.61,4.07,109.83,73.25], #monedas\n",
        "           [0, 1, 100, 0.001, 1000,0.000621371,1.09361,3.28084,39.3701,0.000539957,1e+6],#Longitud\n",
        "           [0,1,1000,0.001,1e+6,1e+9,0.000984207,0.00110231,0.157473,2.20462,35.274],#Masa\n",
        "           [0,0.25,0.000125,1.25e-7,1.25e-10,1.25e-13,1.25e-16,1.25e-19,1.25e-22,1.25e-25],#Almacenamiento\n",
        "           [0,1,60,60000,6e+7,6e+10,0.0166666667,0.000694444,9.92063e-5,2.28311e-5,1.9026e-6],#Tiempo\n",
        "           [0,1,0.001,0.219969,0.879877,1.75975,3.51951,35.1951,56.3121,0.0353147,61.0237],#Volumen\n",
        "           [0,1e-6,3.861e-7,1.19599,10.7639,1550,1e-4,0.000247105,1000000 ]#Area\n",
        "]\n",
        "etiquetas = [\n",
        "           [],\n",
        "           [\"1. Dolar\", \"2. Euro\", \"3. Lempira\",\"4. Cordobas\", \"5. Quetzalez\", \"6. Colon SV\", \"7. Colon CR\",\"8. Sol Peruano\",\"9. Yen Japones\",\"10. Rublo Ruso\"],\n",
        "           [\"1. Metro\", \"2. Centimetro\", \"3. Kilometro\",\"4. Milimetro\", \"5. Milla\", \"6. Yarda\",\"7. Pie\",\"8. Pulgada\",\"9. Milla Nautica\",\"10. Micrometro\"],\n",
        "           [\"1. Kilogramo\",\"2. Gramo\",\"3. Tonelada\",\"4. Miligramo\",\"5. Microgramo\", \"6. Tonelada larga\",\"7. Tonelada corta\",\"8. Stone\", \"9. Libra\", \"10. Onza\"],\n",
        "           [\"1. Bit\",\"2. Byte\", \"3. Kilobyte\", \"4. Megabyte\", \"5. Gigabyte\", \"6. Terabyte\", \"7. Petabyte\", \"8. Exabyte\", \"9. Zettabyte\", \"10. Yottabyte\"],\n",
        "           [\"1. Minuto\", \"2. Segundo\",\"3. Milisegundo\",\"4.Microsegundo\",\"5. Nanosegundo\",\"6. Hora\",\"7. Dia\",\"8. Semana\",\"9. Mes\",\"10. año\"],\n",
        "           [\"1. Litro\",\"2. Metro Cubico\",\"3. Galon imperia\",\"4. Cuarto imperial\",\"5. Pinta imperial\",\"6. Taza imperial\",\"7. Onza liquida imperial\",\"8. Cucharada imperial\",\"9. Pie cubico\",\"10. Pulgada cubica\" ],\n",
        "           [\"1. Metro cuadrado\",\"2. Kilometro cuadrado\",\"3. Milla cuadrada\",\"5. Yarda cuadrada\",\"6. Pie cuadrado\",\"7. Pulgada cuadrada\",\"8. Hectarea\",\"9. Acre\",\"Milimetros cuadrados\"]\n",
        "]\n",
        "def convertir(conversor, de, a, cantidad):\n",
        "  return valores[conversor][a]/valores[conversor][de] * cantidad\n",
        "\n",
        "print(\"*** MENU ***\")\n",
        "print(\"* 1. Monedas\")\n",
        "print(\"* 2. Longitud\")\n",
        "print(\"* 3. Masa\")\n",
        "print(\"* 4. Almacenamiento\")\n",
        "print(\"* 5. Tiempo\")\n",
        "print(\"* 6. Volumen\")\n",
        "print(\"* 7. Area\")\n",
        "conversor = int(input(\"Conversor: \"))\n",
        "\n",
        "print( etiquetas[conversor] )\n",
        "\n",
        "de = int(input(\"DE: \"))\n",
        "a = int(input(\"A: \"))\n",
        "cantidad = float(input(\"Cant: \"))\n",
        "\n",
        "print(\"Respuesta: \", convertir(conversor, de, a, cantidad) )"
      ],
      "execution_count": null,
      "outputs": [
        {
          "output_type": "stream",
          "text": [
            "*** MENU ***\n",
            "* 1. Monedas\n",
            "* 2. Longitud\n",
            "* 3. Masa\n",
            "* 4. Almacenamiento\n",
            "* 5. Tiempo\n",
            "* 6. Volumen\n",
            "* 7. Area\n",
            "Conversor: 5\n",
            "['1. Minuto', '2. Segundo', '3. Milisegundo', '4.Microsegundo', '5. Nanosegundo', '6. Hora', '7. Dia', '8. Semana', '9. Mes', '10. año']\n",
            "DE: 6\n",
            "A: 1\n",
            "Cant: 1\n",
            "Respuesta:  59.999999880000004\n"
          ],
          "name": "stdout"
        }
      ]
    },
    {
      "cell_type": "markdown",
      "metadata": {
        "id": "ioFTeiuyW19V"
      },
      "source": [
        "•\tRealizar un conversor propio, donde espesifique el valor de conversión: (10%)\n",
        "•\t1 caja -> 25 unidad. Viceversa 80 unidades – 3/5 -> cajas/unidades\n",
        "•\t1 saco -> 50 libras. Viceversa 130 libras – 2/30 -> sacos/libras\n",
        "•\t1 fardo -> 5 unidades. Viceversa 28 unidades – 5/3 -> fardos/unidades\n",
        "\n",
        "\n"
      ]
    },
    {
      "cell_type": "code",
      "metadata": {
        "colab": {
          "base_uri": "https://localhost:8080/"
        },
        "id": "_quGl4uNW2fd",
        "outputId": "1ec5b2d7-22e1-431b-e545-dd599217df17"
      },
      "source": [
        "print(\"***MENÚ*** \\n¿QUÉ CONVERSIÓN DESEA REALIZAR? \\n1. Cajas a Unidades \\n2. Unidades a Cajas \\n3. Saco a Libras \\n4. Libras a Saco \\n5. Fardos a Unidades \\n6. Unidades a Fardos\")\n",
        "\n",
        "\n",
        "\n",
        "print(\"\")\n",
        "\n",
        "conversor = int(input(\"Elija un número para realizar la conversión: \"))\n",
        "\n",
        "if conversor == 1 :\n",
        "    print(\"\")\n",
        "    print(\"Convertir Cajas a Unidades:\")\n",
        "    C = float(input(\"Ingrese las Cajas: \"))\n",
        "    u = (C * 25)/1\n",
        "    print(C,\"Cajas a Unidad/es son: \" , u)\n",
        "\n",
        "elif conversor == 2 :\n",
        "    print(\"\")\n",
        "    print(\"Convertir Unidades a Cajas:\")\n",
        "    U = float(input(\"Ingrese las Unidades: \"))\n",
        "    c = (U * 1)/25\n",
        "    print(U,\"unidades a caja/s son: \" , c)\n",
        "\n",
        "elif conversor == 3 :\n",
        "    print(\"\")\n",
        "    print(\"Convertir Saco a Libras:\")\n",
        "    S = float(input(\"Ingrese los Sacos: \"))\n",
        "    l = (S * 50)/1\n",
        "    print(S,\"Saco a Libra/s son: \" , l)\n",
        "\n",
        "elif conversor == 4 :\n",
        "    print(\"\")\n",
        "    print(\"Convertir Libras a Sacos:\")\n",
        "    L = float(input(\"Ingrese las libras: \"))\n",
        "    s = (L * 1)/50\n",
        "    print(L,\"Libra/s a Saco/s son: \" , s)\n",
        "elif conversor == 5 :\n",
        "    print(\"\")\n",
        "    print(\"Convertir Fardos a Unidades:\")\n",
        "    F = float(input(\"Ingrese los Fardos: \"))\n",
        "    uni = (F * 5)/1\n",
        "    print(F,\"Fardo/s a Unidad/es son: \" , uni)\n",
        "elif conversor == 6 :\n",
        "    print(\"\")\n",
        "    print(\"Convertir Unidades a Fardos:\")\n",
        "    UNI = float(input(\"Ingrese las Unidades: \"))\n",
        "    f = (UNI * 1)/5\n",
        "    print(UNI,\"Unidad/es a Fardo/s son: \" , f)\n",
        "else :\n",
        "    print(\"ERROR!!!\")"
      ],
      "execution_count": null,
      "outputs": [
        {
          "output_type": "stream",
          "name": "stdout",
          "text": [
            "***MENÚ*** \n",
            "¿QUÉ CONVERSIÓN DESEA REALIZAR? \n",
            "1. Cajas a Unidades \n",
            "2. Unidades a Cajas \n",
            "3. Saco a Libras \n",
            "4. Libras a Saco \n",
            "5. Fardos a Unidades \n",
            "6. Unidades a Fardos\n",
            "\n",
            "Elija un número para realizar la conversión: 5\n",
            "\n",
            "Convertir Fardos a Unidades:\n",
            "Ingrese los Fardos: 1\n",
            "1.0 Fardo/s a Unidad/es son:  5.0\n"
          ]
        }
      ]
    }
  ]
}